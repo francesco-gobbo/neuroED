{
 "cells": [
  {
   "cell_type": "code",
   "execution_count": 68,
   "metadata": {},
   "outputs": [],
   "source": [
    "import os\n",
    "import time\n",
    "import numpy as np\n",
    "import pandas as pd\n",
    "import matplotlib.pyplot as plt\n",
    "from PIL import Image\n",
    "from PIL import ImageDraw, ImageOps, ImageFont\n",
    "\n",
    "font = ImageFont.truetype(\"arial.ttf\", 25)\n",
    "\n"
   ]
  },
  {
   "cell_type": "code",
   "execution_count": 71,
   "metadata": {},
   "outputs": [],
   "source": [
    "folder_cellset = r'\\\\172.16.251.125\\Inscopix\\Francesco\\H2234 - 4X\\H2234_4X_EGO_PH2\\MAPS\\H2234 S30' \n",
    "\n",
    "template=Image.open(os.path.join(r'\\\\172.16.251.125\\Inscopix\\Francesco\\H2234 - 4X\\H2234_4X_EGO_PH2\\MAPS', 'H2234 S30.tif'))\n",
    "template=ImageOps.invert(template)\n",
    "template = template.resize((template.size[0]*2, template.size[1]*2))\n",
    "\n",
    "\n",
    "color = cm.rainbow(np.linspace(0, 1, 62))\n",
    "i=0\n",
    "\n",
    "for folder, subfolder, files in os.walk(folder_cellset):\n",
    "    for file in files:\n",
    "        if file[-4:]=='tiff':\n",
    "            im=Image.open(os.path.join(folder_cellset, file))\n",
    "            biggest = np.amax(im)\n",
    "            if biggest>0:\n",
    "                for width in range(im.size[0]):\n",
    "                    for height in range(im.size[1]):\n",
    "                        if im.getpixel((width, height)) == biggest:\n",
    "                            (max_width, max_height)=(width, height)\n",
    "                name=file.split('_')[1][1:4]\n",
    "                c=(int(color[i][0]*255), int(color[i][1]*255),int(color[i][2]*255))\n",
    "                draw = ImageDraw.Draw(template)\n",
    "                draw.arc([(max_width*10-1, max_height*10-1),(max_width*5+1, max_height*5+1)], 0,360,fill=c, width =2)\n",
    "                draw.text((max_width*10, max_height*10), name, fill=c, font=font)\n",
    "                i+=1            \n",
    "template.save(os.path.join(folder_cellset, 'H2234 S30_numbers.tiff'))"
   ]
  },
  {
   "cell_type": "code",
   "execution_count": 73,
   "metadata": {},
   "outputs": [],
   "source": [
    "from matplotlib.pyplot import cm\n",
    "font = ImageFont.truetype(\"arial.ttf\", 25)\n",
    "\n",
    "\n",
    "folder_cellset = r'\\\\172.16.251.125\\Inscopix\\Francesco\\H2234 - 4X\\H2234_4X_EGO_PH2\\MAPS\\H2230 28-34 NO 30'\n",
    "\n",
    "template=Image.open(os.path.join(r'\\\\172.16.251.125\\Inscopix\\Francesco\\H2234 - 4X\\H2234_4X_EGO_PH2\\MAPS', 'H2234 S28-34 NO 30.tif'))\n",
    "template=ImageOps.invert(template)\n",
    "template = template.resize((template.size[0]*2, template.size[1]*2))\n",
    "\n",
    "color = cm.rainbow(np.linspace(0, 1, 100))\n",
    "i=0\n",
    "\n",
    "for folder, subfolder, files in os.walk(folder_cellset):\n",
    "    for file in files:\n",
    "        if file[-4:]=='tiff':\n",
    "            im=Image.open(os.path.join(folder_cellset, file))\n",
    "            biggest = np.amax(im)\n",
    "            if biggest>0:\n",
    "                for width in range(im.size[0]):\n",
    "                    for height in range(im.size[1]):\n",
    "                        if im.getpixel((width, height)) == biggest:\n",
    "                            (max_width, max_height)=(width, height)\n",
    "                name=file.split('_')[1][1:4]\n",
    "                c=(int(color[i][0]*255), int(color[i][1]*255),int(color[i][2]*255))\n",
    "                draw = ImageDraw.Draw(template)\n",
    "                draw.arc([(max_width*10-1, max_height*10-1),(max_width*5+1, max_height*5+1)], 0,360,fill=c, width =2)\n",
    "                draw.text((max_width*10, max_height*10), name, fill=c, font=font)\n",
    "                i+=1 \n",
    "template.save(os.path.join(folder_cellset, 'H2234_EGO_MAP.tiff'))"
   ]
  },
  {
   "cell_type": "code",
   "execution_count": 59,
   "metadata": {},
   "outputs": [],
   "source": [
    "c=(int(color[i][0]), int(color[i][1]),int(color[i][2]))"
   ]
  },
  {
   "cell_type": "code",
   "execution_count": 60,
   "metadata": {},
   "outputs": [
    {
     "data": {
      "text/plain": [
       "(0, 0, 1)"
      ]
     },
     "execution_count": 60,
     "metadata": {},
     "output_type": "execute_result"
    }
   ],
   "source": [
    "c"
   ]
  }
 ],
 "metadata": {
  "kernelspec": {
   "display_name": "Python 3",
   "language": "python",
   "name": "python3"
  },
  "language_info": {
   "codemirror_mode": {
    "name": "ipython",
    "version": 3
   },
   "file_extension": ".py",
   "mimetype": "text/x-python",
   "name": "python",
   "nbconvert_exporter": "python",
   "pygments_lexer": "ipython3",
   "version": "3.8.5"
  }
 },
 "nbformat": 4,
 "nbformat_minor": 5
}
