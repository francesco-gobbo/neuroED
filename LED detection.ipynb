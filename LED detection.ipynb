{
 "cells": [
  {
   "cell_type": "code",
   "execution_count": 141,
   "metadata": {},
   "outputs": [
    {
     "name": "stdout",
     "output_type": "stream",
     "text": [
      "Processing  H2219 SE43 EEE SW5 CHO ..........\n"
     ]
    },
    {
     "name": "stderr",
     "output_type": "stream",
     "text": [
      "100%|██████████| 13651/13651 [27:29<00:00,  8.27it/s]\n"
     ]
    },
    {
     "name": "stdout",
     "output_type": "stream",
     "text": [
      "77\n",
      "3473\n",
      "5249\n",
      "5287\n",
      "5711\n",
      "8278\n",
      "9609\n",
      "9612\n",
      "9638\n",
      "9641\n",
      "10650\n",
      "13633\n",
      "Processing  H2219 SE43 EEE SW5 PRE1 ..........\n"
     ]
    },
    {
     "name": "stderr",
     "output_type": "stream",
     "text": [
      "100%|██████████| 17119/17119 [30:26<00:00,  9.37it/s] \n"
     ]
    },
    {
     "name": "stdout",
     "output_type": "stream",
     "text": [
      "90\n",
      "17057\n",
      "Processing  H2219 SE43 EEE SW5 PRE2 ..........\n"
     ]
    },
    {
     "name": "stderr",
     "output_type": "stream",
     "text": [
      "100%|██████████| 19011/19011 [27:08<00:00, 11.68it/s]\n"
     ]
    },
    {
     "name": "stdout",
     "output_type": "stream",
     "text": [
      "100\n",
      "18936\n",
      "Processing  H2219 SE43 EEE SW5 SAM ..........\n"
     ]
    },
    {
     "name": "stderr",
     "output_type": "stream",
     "text": [
      "100%|██████████| 16055/16055 [24:05<00:00, 11.11it/s]\n"
     ]
    },
    {
     "name": "stdout",
     "output_type": "stream",
     "text": [
      "91\n",
      "2624\n",
      "4107\n",
      "4118\n",
      "4197\n",
      "4198\n",
      "4200\n",
      "4201\n",
      "5759\n",
      "9414\n",
      "11447\n",
      "15960\n",
      "Processing  H2219 SE46 EEE SW5 CHO ..........\n"
     ]
    },
    {
     "name": "stderr",
     "output_type": "stream",
     "text": [
      "100%|██████████| 13793/13793 [20:08<00:00, 11.41it/s]\n"
     ]
    },
    {
     "name": "stdout",
     "output_type": "stream",
     "text": [
      "88\n",
      "3020\n",
      "4544\n",
      "4546\n",
      "4698\n",
      "5189\n",
      "5194\n",
      "5201\n",
      "5244\n",
      "9819\n",
      "9919\n",
      "Processing  H2219 SE46 EEE SW5 CTC ..........\n"
     ]
    },
    {
     "name": "stderr",
     "output_type": "stream",
     "text": [
      "100%|██████████| 11457/11457 [16:52<00:00, 11.32it/s]\n"
     ]
    },
    {
     "name": "stdout",
     "output_type": "stream",
     "text": [
      "104\n",
      "4190\n",
      "6487\n",
      "11318\n",
      "Processing  H2219 SE46 EEE SW5 POST ..........\n"
     ]
    },
    {
     "name": "stderr",
     "output_type": "stream",
     "text": [
      "100%|██████████| 20881/20881 [29:38<00:00, 11.74it/s]\n"
     ]
    },
    {
     "name": "stdout",
     "output_type": "stream",
     "text": [
      "70\n",
      "20806\n",
      "Processing  H2219 SE46 EEE SW5 PRE1 ..........\n"
     ]
    },
    {
     "name": "stderr",
     "output_type": "stream",
     "text": [
      "100%|██████████| 19873/19873 [26:53<00:00, 12.32it/s]\n"
     ]
    },
    {
     "name": "stdout",
     "output_type": "stream",
     "text": [
      "78\n",
      "19797\n",
      "Processing  H2219 SE46 EEE SW5 PRE2 ..........\n"
     ]
    },
    {
     "name": "stderr",
     "output_type": "stream",
     "text": [
      "100%|██████████| 18619/18619 [25:16<00:00, 12.28it/s]\n"
     ]
    },
    {
     "name": "stdout",
     "output_type": "stream",
     "text": [
      "112\n",
      "15806\n",
      "15809\n",
      "18543\n",
      "Processing  H2219 SE46 EEE SW5 SAM ..........\n"
     ]
    },
    {
     "name": "stderr",
     "output_type": "stream",
     "text": [
      "100%|██████████| 12937/12937 [18:45<00:00, 11.49it/s]"
     ]
    },
    {
     "name": "stdout",
     "output_type": "stream",
     "text": [
      "86\n",
      "2627\n",
      "4661\n",
      "8419\n",
      "10354\n",
      "12820\n"
     ]
    },
    {
     "name": "stderr",
     "output_type": "stream",
     "text": [
      "\n"
     ]
    }
   ],
   "source": [
    "import matplotlib.pyplot as plt\n",
    "import numpy as np\n",
    "import pandas as pd\n",
    "import cv2\n",
    "import os\n",
    "from tqdm import tqdm, trange\n",
    "\n",
    "folder_name= r'\\\\172.16.251.125\\Inscopix\\Francesco\\DLC FOLDER\\Input Folder 2' # <---- INSERT DIRECTORY NAME AS A STRING\n",
    "\n",
    "\n",
    "\n",
    "def led_time(behavioural_video):\n",
    "    \"\"\"Find frame that an LED is switched on\n",
    "    INPUT:\n",
    "    - behavioural_video = the video being analysed\n",
    "    \n",
    "    OUTPUT:\n",
    "    - trial_starts - list containing all trial starts\n",
    "    - trial_ends - list containing all trial ends\"\"\"\n",
    "    \n",
    "    #Read in video\n",
    "    cap = cv2.VideoCapture(behavioural_video)\n",
    "    light_list=[]\n",
    "    frame = 1 #Start Frame number\n",
    "     # find trial start or trial end\n",
    "    \n",
    "    duration = int(cap.get(cv2.CAP_PROP_FRAME_COUNT))\n",
    "    cap.set(1, 0)\n",
    "    bkg= cap.read()[1]\n",
    "    bkg = cv2.cvtColor(bkg, cv2.COLOR_BGR2GRAY)\n",
    "    \n",
    "    with tqdm(total=duration-20) as pbar:\n",
    "        for frame in range(duration-20):\n",
    "            cap.set(1, frame+1)\n",
    "            pixels = cap.read()[1] # Read in Pixel values\n",
    "            pixels=  cv2.cvtColor(pixels, cv2.COLOR_BGR2GRAY)\n",
    "            pixels = cv2.subtract(pixels,bkg)\n",
    "            pixels = cv2.blur(pixels,(2,2))\n",
    "\n",
    "            #Define approximate LED region and extract mean of highest 100 pixel values\n",
    "            light_region = pixels[350:500][:,200:350]\n",
    "            light_region2=pixels[550:700][:,1100:1300] # LED Region (y range = [400:-1], x range = 0:300)\n",
    "            light_frame =max(np.array(light_region).flatten())# max(max(np.array(light_region).flatten()), max(np.array(light_region2).flatten())) #Maximum pixel value for region\n",
    "\n",
    "            light_list.append(light_frame)\n",
    "            pbar.update()\n",
    "            \n",
    "    #if no trial end is detected, use the video end\n",
    "    \n",
    "    t_status=0\n",
    "    trial_starts, trial_ends = [[],[]]\n",
    "    i =0\n",
    "\n",
    "    while i <len(light_list):\n",
    "            light_frame= light_list[i]\n",
    "            if t_status == 0 and light_frame > 200:\n",
    "                trial_starts.append(i)\n",
    "                t_status = 1   \n",
    "                print(i)\n",
    "                \n",
    "                #If max value drops below 250 then LED is switched off (end trial)\n",
    "            elif t_status == 1 and light_frame < 200:\n",
    "                trial_ends.append(i)\n",
    "                t_status = 0\n",
    "                print(i)\n",
    "            \n",
    "            i+=1\n",
    "            \n",
    "\n",
    "\n",
    "    if len(trial_starts) != len(trial_ends):\n",
    "            trial_ends.append(duration)\n",
    "            \n",
    "            \n",
    "    return trial_starts, trial_ends, light_list\n",
    "\n",
    "\n",
    "BEH_directory = folder_name\n",
    "\n",
    "Meta = pd.DataFrame({'Animal':'',\n",
    "                                     'Session':'',\n",
    "                                     'Stage':'',\n",
    "                                     'Trial':'',\n",
    "                                     'Trial start frame':'', \n",
    "                                     'Trial end frame':'' \n",
    "                    }, index=[0])\n",
    "\n",
    "for file in os.listdir(BEH_directory):\n",
    "    if (file[-4:]=='.flv'): #& (file == '2020-02-03 H2211_SE42_WWW_SW3_CHO.flv'):\n",
    "        import re\n",
    "        animal, session, meta, sandwell, stage =re.split('_|-',file[11:-4])# (file[:-4].split(\"_-\"))\n",
    "        if animal=='H2219':\n",
    "            print('Processing ', animal, session, meta, sandwell, stage, '..........')\n",
    "\n",
    "            behavioural_video = os.path.join(BEH_directory,file)\n",
    "            t_starts, t_ends, l_list = led_time(behavioural_video) #Call LED function\n",
    "\n",
    "            n_trials = len(t_starts)\n",
    "            add_meta = pd.DataFrame({'Animal':[animal]*n_trials,\n",
    "                                         'Session':[(session)]*n_trials,\n",
    "                                         'Stage':[stage]*n_trials,\n",
    "                                         'Trial':np.arange(1,1+n_trials,1),\n",
    "                                         'Trial start frame':t_starts, \n",
    "                                         'Trial end frame':t_ends,\n",
    "                                         'Values':str(l_list)})\n",
    "            Meta = Meta.append(add_meta)\n",
    "            Meta= Meta.reset_index(drop=True)\n",
    "\n"
   ]
  },
  {
   "cell_type": "code",
   "execution_count": 3,
   "metadata": {},
   "outputs": [],
   "source": [
    "Meta.to_csv(os.path.join(folder_name, 'H2211.csv'), sep =',')"
   ]
  },
  {
   "cell_type": "code",
   "execution_count": 166,
   "metadata": {},
   "outputs": [
    {
     "data": {
      "image/png": "[encoded data removed]",
      "text/plain": [
       "<Figure size 1080x288 with 1 Axes>"
      ]
     },
     "metadata": {
      "needs_background": "light"
     },
     "output_type": "display_data"
    }
   ],
   "source": [
    "import ast\n",
    "x=Meta[(Meta['Session']=='SE46')&(Meta['Stage']=='CHO')]\n",
    "y=x['Values']\n",
    "y=y.reset_index(drop=True)[0]\n",
    "y=ast.literal_eval(y)\n",
    "plt.figure(figsize=(15,4))\n",
    "plt.plot(y)\n",
    "plt.hlines(220, 0, len(y), color='r')\n",
    "plt.grid()\n",
    "plt.xticks(np.arange(0, len(y), step=1000), rotation=45);\n",
    "\n"
   ]
  },
  {
   "cell_type": "code",
   "execution_count": 154,
   "metadata": {},
   "outputs": [
    {
     "data": {
      "text/plain": [
       "([77, 5711, 10650], [3473, 8278, 13633])"
      ]
     },
     "execution_count": 154,
     "metadata": {},
     "output_type": "execute_result"
    }
   ],
   "source": [
    "[89, 4705, 11036] , [3020,  9808,  13688]"
   ]
  },
  {
   "cell_type": "code",
   "execution_count": 167,
   "metadata": {},
   "outputs": [
    {
     "name": "stdout",
     "output_type": "stream",
     "text": [
      "[89, 4705, 4853, 4999, 5256, 8909, 10013, 10160, 11036] \n",
      " [3020, 4848, 4964, 5184, 8908, 9808, 10021, 10176, 13688]\n"
     ]
    }
   ],
   "source": [
    "\n",
    "\n",
    "threshold=220\n",
    "\n",
    "\n",
    "\n",
    "t_status=0\n",
    "trial_starts, trial_ends = [[],[]]\n",
    "i =0\n",
    "light_list=y\n",
    "while i <len(light_list):\n",
    "        light_frame= light_list[i]\n",
    "        if t_status == 0 and light_frame > threshold:\n",
    "            trial_starts.append(i)\n",
    "            t_status = 1   \n",
    "            \n",
    "\n",
    "            #If max value drops below 250 then LED is switched off (end trial)\n",
    "        elif t_status == 1 and light_frame < threshold:\n",
    "            trial_ends.append(i)\n",
    "            t_status = 0\n",
    "\n",
    "        i+=1\n",
    "print(trial_starts, \"\\n\", trial_ends)"
   ]
  },
  {
   "cell_type": "code",
   "execution_count": 130,
   "metadata": {},
   "outputs": [
    {
     "name": "stderr",
     "output_type": "stream",
     "text": [
      "100%|██████████| 22264/22264 [33:11<00:00, 11.18it/s]"
     ]
    },
    {
     "name": "stdout",
     "output_type": "stream",
     "text": [
      "207\n",
      "5446\n",
      "5840\n",
      "5842\n",
      "5860\n",
      "5919\n",
      "5920\n",
      "5921\n",
      "5922\n",
      "5923\n",
      "5936\n",
      "5938\n",
      "5967\n",
      "5979\n",
      "5998\n",
      "6070\n",
      "6074\n",
      "6075\n",
      "6077\n",
      "6083\n",
      "6084\n",
      "6087\n",
      "6108\n",
      "6113\n",
      "6114\n",
      "6115\n",
      "6117\n",
      "6118\n",
      "6123\n",
      "6124\n",
      "6144\n",
      "6151\n",
      "6153\n",
      "6164\n",
      "6167\n",
      "6205\n",
      "6211\n",
      "6217\n",
      "6221\n",
      "6222\n",
      "6239\n",
      "6242\n",
      "6274\n",
      "6277\n",
      "6280\n",
      "6290\n",
      "6333\n",
      "6337\n",
      "6421\n",
      "6459\n",
      "6498\n",
      "6503\n",
      "6509\n",
      "6518\n",
      "6532\n",
      "6544\n",
      "6582\n",
      "6585\n",
      "6599\n",
      "6644\n",
      "6687\n",
      "6695\n",
      "6697\n",
      "6704\n",
      "6707\n",
      "6708\n",
      "6709\n",
      "6711\n",
      "7204\n",
      "7211\n",
      "7227\n",
      "7230\n",
      "7263\n",
      "7266\n",
      "7288\n",
      "7290\n",
      "7607\n",
      "7608\n",
      "7618\n",
      "7619\n",
      "7672\n",
      "7710\n",
      "7711\n",
      "7712\n",
      "7713\n",
      "7714\n",
      "7716\n",
      "7718\n",
      "7842\n",
      "7843\n",
      "7844\n",
      "7845\n",
      "8323\n",
      "8350\n",
      "8398\n",
      "13408\n",
      "13414\n",
      "13450\n",
      "13456\n",
      "13462\n",
      "13475\n",
      "13594\n",
      "13599\n",
      "13622\n",
      "13628\n",
      "14364\n",
      "14368\n",
      "14879\n",
      "14884\n",
      "14987\n",
      "14994\n",
      "15293\n",
      "15308\n",
      "15309\n",
      "15331\n",
      "15334\n",
      "15376\n",
      "15377\n",
      "15379\n",
      "15387\n",
      "15388\n",
      "15390\n",
      "15391\n",
      "15397\n",
      "15404\n",
      "15408\n",
      "15411\n",
      "15412\n",
      "15417\n",
      "15423\n",
      "15442\n",
      "15444\n",
      "15456\n",
      "15457\n",
      "15458\n",
      "15461\n",
      "15463\n",
      "15464\n",
      "15652\n",
      "15809\n",
      "15831\n",
      "15833\n",
      "15927\n",
      "15928\n",
      "16011\n",
      "16015\n",
      "16095\n",
      "16096\n",
      "16210\n"
     ]
    },
    {
     "name": "stderr",
     "output_type": "stream",
     "text": [
      "\n"
     ]
    }
   ],
   "source": [
    "behavioural_video=os.path.join(r'\\\\172.16.251.125\\Inscopix\\Francesco\\DLC FOLDER\\H2211-18-19','2020-02-03 H2211_SE42_WWW_SW3_CHO.flv')\n",
    "\n",
    "def led_time(behavioural_video):\n",
    "    \"\"\"Find frame that an LED is switched on\n",
    "    INPUT:\n",
    "    - behavioural_video = the video being analysed\n",
    "    - stage = if stage is PRE, then it will only log begining of trial\n",
    "    \n",
    "    OUTPUT:\n",
    "    - trial_starts - list containing all trial starts\n",
    "    - trial_ends - list containing all trial ends\"\"\"\n",
    "    \n",
    "    #Read in video\n",
    "    cap = cv2.VideoCapture(behavioural_video)\n",
    "    light_list=[]\n",
    "    frame = 1 #Start Frame number\n",
    "     # find trial start or trial end\n",
    "    \n",
    "    duration = int(cap.get(cv2.CAP_PROP_FRAME_COUNT))\n",
    "    cap.set(1, 0)\n",
    "    bkg= cap.read()[1]\n",
    "    bkg = cv2.cvtColor(bkg, cv2.COLOR_BGR2GRAY)\n",
    "    \n",
    "    with tqdm(total=duration-20) as pbar:\n",
    "\n",
    "            \n",
    "        for frame in range(duration-20):\n",
    "            \n",
    "            cap.set(1, frame+1)\n",
    "           \n",
    "            pixels = cap.read()[1] # Read in Pixel values\n",
    "            pixels=  cv2.cvtColor(pixels, cv2.COLOR_BGR2GRAY)\n",
    "            pixels = cv2.subtract(pixels,bkg)\n",
    "            pixels = cv2.blur(pixels,(2,2))\n",
    "\n",
    "            #Define approximate LED region and extract mean of highest 100 pixel values\n",
    "            light_region = pixels[350:500][:,200:350]\n",
    "            light_region2=pixels[550:700][:,1100:1300] \n",
    "            light_frame = max(max(np.array(light_region).flatten()), max(np.array(light_region2).flatten())) #Maximum pixel value for region\n",
    "\n",
    "            light_list.append(light_frame)\n",
    "            pbar.update()\n",
    "            \n",
    "    #if no trial end is detected, use the video end\n",
    "    \n",
    "    t_status=0\n",
    "    trial_starts, trial_ends = [[],[]]\n",
    "    i =0\n",
    "\n",
    "    while i <len(light_list):\n",
    "            light_frame= light_list[i]\n",
    "            if t_status == 0 and light_frame > 150:\n",
    "                trial_starts.append(i)\n",
    "                t_status = 1   \n",
    "                print(i)\n",
    "                \n",
    "                #If max value drops below 250 then LED is switched off (end trial)\n",
    "            elif t_status == 1 and light_frame < 150:\n",
    "                trial_ends.append(i)\n",
    "                t_status = 0\n",
    "                print(i)\n",
    "            \n",
    "            i+=1\n",
    "            \n",
    "\n",
    "\n",
    "    if len(trial_starts) != len(trial_ends):\n",
    "            trial_ends.append(duration)\n",
    "            \n",
    "            \n",
    "    return trial_starts, trial_ends, light_list\n",
    "\n",
    "t_starts, t_ends, l_list = led_time(behavioural_video) #Call LED function\n"
   ]
  },
  {
   "cell_type": "code",
   "execution_count": 132,
   "metadata": {},
   "outputs": [
    {
     "data": {
      "text/plain": [
       "[<matplotlib.lines.Line2D at 0x244c7778da0>]"
      ]
     },
     "execution_count": 132,
     "metadata": {},
     "output_type": "execute_result"
    },
    {
     "data": {
      "image/png": "[encoded data removed]",
      "text/plain": [
       "<Figure size 432x288 with 1 Axes>"
      ]
     },
     "metadata": {
      "needs_background": "light"
     },
     "output_type": "display_data"
    }
   ],
   "source": [
    "plt.plot(l_list)"
   ]
  },
  {
   "cell_type": "code",
   "execution_count": 129,
   "metadata": {},
   "outputs": [
    {
     "data": {
      "text/plain": [
       "<matplotlib.image.AxesImage at 0x244c0d7d9b0>"
      ]
     },
     "execution_count": 129,
     "metadata": {},
     "output_type": "execute_result"
    },
    {
     "data": {
      "image/png": "[encoded data removed]",
      "text/plain": [
       "<Figure size 360x144 with 1 Axes>"
      ]
     },
     "metadata": {
      "needs_background": "light"
     },
     "output_type": "display_data"
    }
   ],
   "source": [
    "cap = cv2.VideoCapture(behavioural_video)\n",
    "light_list=[]\n",
    "frame = 1 #Start Frame number\n",
    " # find trial start or trial end\n",
    "\n",
    "duration = int(cap.get(cv2.CAP_PROP_FRAME_COUNT))\n",
    "cap.set(1, 1)\n",
    "bkg= cap.read()[1]\n",
    "bkg = cv2.cvtColor(bkg, cv2.COLOR_BGR2GRAY)\n",
    "\n",
    "#with tqdm(total=duration-20) as pbar:\n",
    "frame=15\n",
    "\n",
    "\n",
    "cap.set(1, frame+1)\n",
    "\n",
    "pixels = cap.read()[1] # Read in Pixel values\n",
    "pixels=  cv2.cvtColor(pixels, cv2.COLOR_BGR2GRAY)\n",
    "pixels = cv2.subtract(pixels,bkg)\n",
    "pixels = cv2.blur(pixels,(2,2))\n",
    "\n",
    "#Define approximate LED region and extract mean of highest 100 pixel values\n",
    "light_region = pixels[350:500][:,200:350]\n",
    "light_region2=pixels[550:700][:,1100:1300] \n",
    "#light_frame = max(max(np.array(light_region).flatten()), max(np.array(light_region2).flatten())) #Maximum pixel value for region\n",
    "\n",
    "#light_list.append(light_frame)\n",
    "#pbar.update()\n",
    "fig=plt.figure(figsize=(5,2))\n",
    "ax = fig.add_subplot(1,1,1)\n",
    "ax.imshow(pixels)   "
   ]
  },
  {
   "cell_type": "code",
   "execution_count": 37,
   "metadata": {},
   "outputs": [],
   "source": [
    "Meta=Meta.sort_values(by=['Session', 'Stage', 'Trial'])"
   ]
  },
  {
   "cell_type": "code",
   "execution_count": 39,
   "metadata": {},
   "outputs": [],
   "source": [
    "\n",
    "Meta.to_csv(os.path.join(folder_name, 'H2222_SA.csv'), sep =',')"
   ]
  },
  {
   "cell_type": "code",
   "execution_count": null,
   "metadata": {},
   "outputs": [],
   "source": []
  }
 ],
 "metadata": {
  "kernelspec": {
   "display_name": "Python 3",
   "language": "python",
   "name": "python3"
  },
  "language_info": {
   "codemirror_mode": {
    "name": "ipython",
    "version": 3
   },
   "file_extension": ".py",
   "mimetype": "text/x-python",
   "name": "python",
   "nbconvert_exporter": "python",
   "pygments_lexer": "ipython3",
   "version": "3.8.5"
  }
 },
 "nbformat": 4,
 "nbformat_minor": 5
}
