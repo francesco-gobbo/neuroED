{
 "cells": [
  {
   "cell_type": "markdown",
   "metadata": {},
   "source": [
    "### Place cell identification pipeline 2.0"
   ]
  },
  {
   "cell_type": "code",
   "execution_count": 8,
   "metadata": {},
   "outputs": [],
   "source": [
    "def arena_binned(x, y, xdim, ydim, pix_cm, pf_cm):\n",
    "    d_x = xdim[0] - xdim[1] # xdim[0] = max, xdim[1] = min\n",
    "    d_y = ydim[0] - ydim[1] # ydim[0] = max, ydim[1] = min\n",
    "    nBnx = int((d_x/(pix_cm*pf_cm)))\n",
    "    nBny = int((d_y/(pix_cm*pf_cm)))\n",
    "    bn_x = [int(i) for i in np.linspace(xdim[0],xdim[1],nBnx)]\n",
    "    bn_y = [int(i) for i in np.linspace(ydim[0], ydim[1],nBny)]\n",
    "\n",
    "    bx = ((x-bn_x[0])/(bn_x[1]-bn_x[0])).astype(int)\n",
    "    by = ((y-bn_y[0])/(bn_y[1]-bn_y[0])).astype(int)\n",
    "    S = np.vstack((bx,by))\n",
    "    linS = np.ravel_multi_index(S,(nBnx,nBny))\n",
    "    occMap = sps.csr_matrix((np.ones(len(bx)),(bx,by)),shape=(nBnx,nBny),dtype=float).todense()\n",
    "    return linS.astype(float), occMap, nBnx, nBny, bx, by\n",
    "\n",
    "\n",
    "def bursting_check(linSpf, linS, e_trace, tr_delay):\n",
    "    #Place field timestamps\n",
    "    pft_idxs = [i for i in range(len(linS)) if linS[i] in linSpf]\n",
    "  \n",
    "    #Seperate timestamps into traverals\n",
    "    tr_idxs_all = []; tr_idxs = []\n",
    "    i = 0\n",
    "    while i < len(pft_idxs)-1:\n",
    "        tr = pft_idxs[i+1]-pft_idxs[i]\n",
    "        tr_idxs.append(pft_idxs[i])\n",
    "\n",
    "        if tr > tr_delay: #acceptable delay between traversals\n",
    "            tr_idxs_all.append(tr_idxs)\n",
    "            tr_idxs = []\n",
    "        i += 1\n",
    "        \n",
    "    #Calculate the number of traversals with events\n",
    "    tr = 0\n",
    "    for i in tr_idxs_all:\n",
    "        n_events = sum(e_trace[i])\n",
    "        if n_events > 0:\n",
    "            tr += 1\n",
    "            \n",
    "    return tr,(tr/len(tr_idxs_all))*100"
   ]
  },
  {
   "cell_type": "code",
   "execution_count": 11,
   "metadata": {
    "jupyter": {
     "outputs_hidden": true
    },
    "scrolled": false
   },
   "outputs": [
    {
     "name": "stderr",
     "output_type": "stream",
     "text": [
      "<ipython-input-11-6fcd7f8b8409>:39: ParserWarning: Falling back to the 'python' engine because the 'c' engine does not support regex separators (separators > 1 char and different from '\\s+' are interpreted as regex); you can avoid this warning by specifying engine='python'.\n",
      "  meta = pd.read_csv(directory,file)\n"
     ]
    },
    {
     "ename": "PermissionError",
     "evalue": "[Errno 13] Permission denied: 'E:\\\\Python'",
     "output_type": "error",
     "traceback": [
      "\u001b[1;31m---------------------------------------------------------------------------\u001b[0m",
      "\u001b[1;31mPermissionError\u001b[0m                           Traceback (most recent call last)",
      "\u001b[1;32m<ipython-input-11-6fcd7f8b8409>\u001b[0m in \u001b[0;36m<module>\u001b[1;34m\u001b[0m\n\u001b[0;32m     37\u001b[0m \u001b[1;31m#Read in aligned events df\u001b[0m\u001b[1;33m\u001b[0m\u001b[1;33m\u001b[0m\u001b[1;33m\u001b[0m\u001b[0m\n\u001b[0;32m     38\u001b[0m \u001b[0mfile\u001b[0m \u001b[1;33m=\u001b[0m \u001b[1;34m'H1_A1_PRE_event_dlc_fake.csv'\u001b[0m\u001b[1;33m\u001b[0m\u001b[1;33m\u001b[0m\u001b[0m\n\u001b[1;32m---> 39\u001b[1;33m \u001b[0mmeta\u001b[0m \u001b[1;33m=\u001b[0m \u001b[0mpd\u001b[0m\u001b[1;33m.\u001b[0m\u001b[0mread_csv\u001b[0m\u001b[1;33m(\u001b[0m\u001b[0mdirectory\u001b[0m\u001b[1;33m,\u001b[0m\u001b[0mfile\u001b[0m\u001b[1;33m)\u001b[0m\u001b[1;33m\u001b[0m\u001b[1;33m\u001b[0m\u001b[0m\n\u001b[0m\u001b[0;32m     40\u001b[0m \u001b[0mmeta\u001b[0m \u001b[1;33m=\u001b[0m \u001b[0mmeta\u001b[0m\u001b[1;33m.\u001b[0m\u001b[0mloc\u001b[0m\u001b[1;33m[\u001b[0m\u001b[1;33m(\u001b[0m\u001b[0mmeta\u001b[0m\u001b[1;33m[\u001b[0m\u001b[1;34m'Session'\u001b[0m\u001b[1;33m]\u001b[0m\u001b[1;33m==\u001b[0m\u001b[0msession\u001b[0m\u001b[1;33m)\u001b[0m \u001b[1;33m&\u001b[0m \u001b[1;33m(\u001b[0m\u001b[0mmeta\u001b[0m\u001b[1;33m[\u001b[0m\u001b[1;34m'Stage'\u001b[0m\u001b[1;33m]\u001b[0m\u001b[1;33m==\u001b[0m\u001b[0mstage\u001b[0m\u001b[1;33m)\u001b[0m\u001b[1;33m]\u001b[0m\u001b[1;33m\u001b[0m\u001b[1;33m\u001b[0m\u001b[0m\n",
      "\u001b[1;32m~\\Anaconda3\\lib\\site-packages\\pandas\\io\\parsers.py\u001b[0m in \u001b[0;36mread_csv\u001b[1;34m(filepath_or_buffer, sep, delimiter, header, names, index_col, usecols, squeeze, prefix, mangle_dupe_cols, dtype, engine, converters, true_values, false_values, skipinitialspace, skiprows, skipfooter, nrows, na_values, keep_default_na, na_filter, verbose, skip_blank_lines, parse_dates, infer_datetime_format, keep_date_col, date_parser, dayfirst, cache_dates, iterator, chunksize, compression, thousands, decimal, lineterminator, quotechar, quoting, doublequote, escapechar, comment, encoding, dialect, error_bad_lines, warn_bad_lines, delim_whitespace, low_memory, memory_map, float_precision)\u001b[0m\n\u001b[0;32m    684\u001b[0m     )\n\u001b[0;32m    685\u001b[0m \u001b[1;33m\u001b[0m\u001b[0m\n\u001b[1;32m--> 686\u001b[1;33m     \u001b[1;32mreturn\u001b[0m \u001b[0m_read\u001b[0m\u001b[1;33m(\u001b[0m\u001b[0mfilepath_or_buffer\u001b[0m\u001b[1;33m,\u001b[0m \u001b[0mkwds\u001b[0m\u001b[1;33m)\u001b[0m\u001b[1;33m\u001b[0m\u001b[1;33m\u001b[0m\u001b[0m\n\u001b[0m\u001b[0;32m    687\u001b[0m \u001b[1;33m\u001b[0m\u001b[0m\n\u001b[0;32m    688\u001b[0m \u001b[1;33m\u001b[0m\u001b[0m\n",
      "\u001b[1;32m~\\Anaconda3\\lib\\site-packages\\pandas\\io\\parsers.py\u001b[0m in \u001b[0;36m_read\u001b[1;34m(filepath_or_buffer, kwds)\u001b[0m\n\u001b[0;32m    450\u001b[0m \u001b[1;33m\u001b[0m\u001b[0m\n\u001b[0;32m    451\u001b[0m     \u001b[1;31m# Create the parser.\u001b[0m\u001b[1;33m\u001b[0m\u001b[1;33m\u001b[0m\u001b[1;33m\u001b[0m\u001b[0m\n\u001b[1;32m--> 452\u001b[1;33m     \u001b[0mparser\u001b[0m \u001b[1;33m=\u001b[0m \u001b[0mTextFileReader\u001b[0m\u001b[1;33m(\u001b[0m\u001b[0mfp_or_buf\u001b[0m\u001b[1;33m,\u001b[0m \u001b[1;33m**\u001b[0m\u001b[0mkwds\u001b[0m\u001b[1;33m)\u001b[0m\u001b[1;33m\u001b[0m\u001b[1;33m\u001b[0m\u001b[0m\n\u001b[0m\u001b[0;32m    453\u001b[0m \u001b[1;33m\u001b[0m\u001b[0m\n\u001b[0;32m    454\u001b[0m     \u001b[1;32mif\u001b[0m \u001b[0mchunksize\u001b[0m \u001b[1;32mor\u001b[0m \u001b[0miterator\u001b[0m\u001b[1;33m:\u001b[0m\u001b[1;33m\u001b[0m\u001b[1;33m\u001b[0m\u001b[0m\n",
      "\u001b[1;32m~\\Anaconda3\\lib\\site-packages\\pandas\\io\\parsers.py\u001b[0m in \u001b[0;36m__init__\u001b[1;34m(self, f, engine, **kwds)\u001b[0m\n\u001b[0;32m    944\u001b[0m             \u001b[0mself\u001b[0m\u001b[1;33m.\u001b[0m\u001b[0moptions\u001b[0m\u001b[1;33m[\u001b[0m\u001b[1;34m\"has_index_names\"\u001b[0m\u001b[1;33m]\u001b[0m \u001b[1;33m=\u001b[0m \u001b[0mkwds\u001b[0m\u001b[1;33m[\u001b[0m\u001b[1;34m\"has_index_names\"\u001b[0m\u001b[1;33m]\u001b[0m\u001b[1;33m\u001b[0m\u001b[1;33m\u001b[0m\u001b[0m\n\u001b[0;32m    945\u001b[0m \u001b[1;33m\u001b[0m\u001b[0m\n\u001b[1;32m--> 946\u001b[1;33m         \u001b[0mself\u001b[0m\u001b[1;33m.\u001b[0m\u001b[0m_make_engine\u001b[0m\u001b[1;33m(\u001b[0m\u001b[0mself\u001b[0m\u001b[1;33m.\u001b[0m\u001b[0mengine\u001b[0m\u001b[1;33m)\u001b[0m\u001b[1;33m\u001b[0m\u001b[1;33m\u001b[0m\u001b[0m\n\u001b[0m\u001b[0;32m    947\u001b[0m \u001b[1;33m\u001b[0m\u001b[0m\n\u001b[0;32m    948\u001b[0m     \u001b[1;32mdef\u001b[0m \u001b[0mclose\u001b[0m\u001b[1;33m(\u001b[0m\u001b[0mself\u001b[0m\u001b[1;33m)\u001b[0m\u001b[1;33m:\u001b[0m\u001b[1;33m\u001b[0m\u001b[1;33m\u001b[0m\u001b[0m\n",
      "\u001b[1;32m~\\Anaconda3\\lib\\site-packages\\pandas\\io\\parsers.py\u001b[0m in \u001b[0;36m_make_engine\u001b[1;34m(self, engine)\u001b[0m\n\u001b[0;32m   1187\u001b[0m                     \u001b[1;34m'are \"c\", \"python\", or \"python-fwf\")'\u001b[0m\u001b[1;33m\u001b[0m\u001b[1;33m\u001b[0m\u001b[0m\n\u001b[0;32m   1188\u001b[0m                 )\n\u001b[1;32m-> 1189\u001b[1;33m             \u001b[0mself\u001b[0m\u001b[1;33m.\u001b[0m\u001b[0m_engine\u001b[0m \u001b[1;33m=\u001b[0m \u001b[0mklass\u001b[0m\u001b[1;33m(\u001b[0m\u001b[0mself\u001b[0m\u001b[1;33m.\u001b[0m\u001b[0mf\u001b[0m\u001b[1;33m,\u001b[0m \u001b[1;33m**\u001b[0m\u001b[0mself\u001b[0m\u001b[1;33m.\u001b[0m\u001b[0moptions\u001b[0m\u001b[1;33m)\u001b[0m\u001b[1;33m\u001b[0m\u001b[1;33m\u001b[0m\u001b[0m\n\u001b[0m\u001b[0;32m   1190\u001b[0m \u001b[1;33m\u001b[0m\u001b[0m\n\u001b[0;32m   1191\u001b[0m     \u001b[1;32mdef\u001b[0m \u001b[0m_failover_to_python\u001b[0m\u001b[1;33m(\u001b[0m\u001b[0mself\u001b[0m\u001b[1;33m)\u001b[0m\u001b[1;33m:\u001b[0m\u001b[1;33m\u001b[0m\u001b[1;33m\u001b[0m\u001b[0m\n",
      "\u001b[1;32m~\\Anaconda3\\lib\\site-packages\\pandas\\io\\parsers.py\u001b[0m in \u001b[0;36m__init__\u001b[1;34m(self, f, **kwds)\u001b[0m\n\u001b[0;32m   2380\u001b[0m         \u001b[0mself\u001b[0m\u001b[1;33m.\u001b[0m\u001b[0m_comment_lines\u001b[0m \u001b[1;33m=\u001b[0m \u001b[1;33m[\u001b[0m\u001b[1;33m]\u001b[0m\u001b[1;33m\u001b[0m\u001b[1;33m\u001b[0m\u001b[0m\n\u001b[0;32m   2381\u001b[0m \u001b[1;33m\u001b[0m\u001b[0m\n\u001b[1;32m-> 2382\u001b[1;33m         f, handles = get_handle(\n\u001b[0m\u001b[0;32m   2383\u001b[0m             \u001b[0mf\u001b[0m\u001b[1;33m,\u001b[0m\u001b[1;33m\u001b[0m\u001b[1;33m\u001b[0m\u001b[0m\n\u001b[0;32m   2384\u001b[0m             \u001b[1;34m\"r\"\u001b[0m\u001b[1;33m,\u001b[0m\u001b[1;33m\u001b[0m\u001b[1;33m\u001b[0m\u001b[0m\n",
      "\u001b[1;32m~\\Anaconda3\\lib\\site-packages\\pandas\\io\\common.py\u001b[0m in \u001b[0;36mget_handle\u001b[1;34m(path_or_buf, mode, encoding, compression, memory_map, is_text, errors)\u001b[0m\n\u001b[0;32m    494\u001b[0m         \u001b[1;32melif\u001b[0m \u001b[0mis_text\u001b[0m\u001b[1;33m:\u001b[0m\u001b[1;33m\u001b[0m\u001b[1;33m\u001b[0m\u001b[0m\n\u001b[0;32m    495\u001b[0m             \u001b[1;31m# No explicit encoding\u001b[0m\u001b[1;33m\u001b[0m\u001b[1;33m\u001b[0m\u001b[1;33m\u001b[0m\u001b[0m\n\u001b[1;32m--> 496\u001b[1;33m             \u001b[0mf\u001b[0m \u001b[1;33m=\u001b[0m \u001b[0mopen\u001b[0m\u001b[1;33m(\u001b[0m\u001b[0mpath_or_buf\u001b[0m\u001b[1;33m,\u001b[0m \u001b[0mmode\u001b[0m\u001b[1;33m,\u001b[0m \u001b[0merrors\u001b[0m\u001b[1;33m=\u001b[0m\u001b[1;34m\"replace\"\u001b[0m\u001b[1;33m,\u001b[0m \u001b[0mnewline\u001b[0m\u001b[1;33m=\u001b[0m\u001b[1;34m\"\"\u001b[0m\u001b[1;33m)\u001b[0m\u001b[1;33m\u001b[0m\u001b[1;33m\u001b[0m\u001b[0m\n\u001b[0m\u001b[0;32m    497\u001b[0m         \u001b[1;32melse\u001b[0m\u001b[1;33m:\u001b[0m\u001b[1;33m\u001b[0m\u001b[1;33m\u001b[0m\u001b[0m\n\u001b[0;32m    498\u001b[0m             \u001b[1;31m# Binary mode\u001b[0m\u001b[1;33m\u001b[0m\u001b[1;33m\u001b[0m\u001b[1;33m\u001b[0m\u001b[0m\n",
      "\u001b[1;31mPermissionError\u001b[0m: [Errno 13] Permission denied: 'E:\\\\Python'"
     ]
    }
   ],
   "source": [
    "import pandas as pd\n",
    "import numpy as np\n",
    "import matplotlib.pyplot as plt\n",
    "import scipy.sparse as sps\n",
    "from scipy.ndimage import gaussian_filter\n",
    "from sklearn.feature_selection import mutual_info_regression as mi_skl\n",
    "import seaborn as sns\n",
    "from scipy import stats\n",
    "import time\n",
    "from matplotlib import gridspec\n",
    "\n",
    "#------------------------------------------------------\n",
    "#SELECT DATA\n",
    "directory = r'E:\\Python'\n",
    "animal = 'H1' # set animal\n",
    "session = 'A1' # set session\n",
    "stage = 'PRE' # set stage\n",
    "\n",
    "#SELECT DIRECTORY TO SAVE RESULTS & FIGURES\n",
    "save_to = directory\n",
    "\n",
    "# PLACE CELL INCLUSION CRITERIA\n",
    "n_events = 3 # CONDITION 1: set n events for a cell to be considered\n",
    "perc_thresh = 99 # CONDITION 2: Set place cell spatial info percentile \n",
    "n_tr = 3 # CONDITION 3: set number of traversals to be considered\n",
    "tr_thresh = 20 # CONDITION 4: % traversals that cell fires <-- accounts for rdm bursting\n",
    "\n",
    "#ADDITIONAL PARAMS\n",
    "xdim = [745, -155] # Set arena x dimensions\n",
    "ydim = [756,-155] # Set Arena y dimensions\n",
    "pix_cm = 5 # Set how many pixels = 1 cm\n",
    "pf_cm = 4 # Set bin size for place field (cms)\n",
    "shuffles = 500 # set number of shuffles to create SI distribution\n",
    "tr_delay = 40 # acceptable delay between traversals (frames)\n",
    "#------------------------------------------------------\n",
    "\n",
    "#Read in aligned events df\n",
    "file = 'H1_A1_PRE_event_dlc_fake.csv'\n",
    "meta = pd.read_csv(directory,file)\n",
    "meta = meta.loc[(meta['Session']==session) & (meta['Stage']==stage)]\n"
   ]
  },
  {
   "cell_type": "code",
   "execution_count": null,
   "metadata": {},
   "outputs": [],
   "source": [
    "meta"
   ]
  },
  {
   "cell_type": "code",
   "execution_count": null,
   "metadata": {},
   "outputs": [],
   "source": [
    "\n",
    "a_meta = meta\n",
    "\n",
    "#Only analyse moving points # INCLUDE SPEED FUNCTION HERE\n",
    "mov_meta = a_meta[a_meta['Movement status']=='moving']\n",
    "x = mov_meta['cap_x'].values.astype(float)\n",
    "y = mov_meta['cap_y'].values.astype(float)\n",
    "\n",
    "#Bin and linearize occupancy\n",
    "linS, occMap, nBnx, nBny, bx, by = arena_binned(x = x, y = y,\n",
    "                                                xdim = xdim, ydim = ydim,\n",
    "                                                pix_cm = pix_cm, pf_cm = pf_cm)\n",
    "\n",
    "#Isolate and binarize events\n",
    "e_traces = mov_meta[mov_meta[[col for col in mov_meta if col.startswith(' C')]]\n",
    "                    .loc[:,~(mov_meta[[col for col in mov_meta if col.startswith(' C')]] == \" nan\").any()].columns.values]\n",
    "cell_IDS = e_traces.columns.values\n",
    "e_traces[e_traces > 0] = 1 # OPTIONAL: Binarized events\n",
    "e_traces = e_traces.values.T\n",
    "\n",
    "criteria = np.zeros((len(e_traces),4));\n",
    "pcs = []; Percs = []; SI =[]\n",
    "for i, ev in enumerate(e_traces):\n",
    "    print(i+1,'/',len(cell_IDS))\n",
    "    \n",
    "    #Calculate place map\n",
    "    rateMap = sps.csr_matrix((ev,(bx,by)),shape=(nBnx,nBny),dtype=float).todense()\n",
    "    placeMap = np.divide(rateMap,occMap); placeMap[np.isnan(placeMap)] = 0\n",
    "    \n",
    "    #CONDITION 1: Exclude cells that have less than n events\n",
    "    if  len([e for e in ev if e > 0]) > n_events:\n",
    "        criteria[i][0] = int(1)\n",
    "        \n",
    "        #Calculate SI and compare to distribution\n",
    "        res_eve = list(np.array(ev.reshape(-1,1)).astype(float))\n",
    "        si = mi_skl(res_eve, linS, discrete_features=True,n_neighbors=3)\n",
    "        SI.append(si)\n",
    "        \n",
    "        #Create distribution of SI with shuffled events\n",
    "        si_shuf = []\n",
    "        for s in range(shuffles): \n",
    "            np.random.shuffle(res_eve)\n",
    "            si_shuf.append(mi_skl(res_eve, linS, discrete_features=True,n_neighbors=3))\n",
    "            if s > 0 and s % 1000 == 0:\n",
    "                print(s, 'shuffles completed')\n",
    "        \n",
    "        #Calculate percentile\n",
    "        perc = stats.percentileofscore(si_shuf, si)\n",
    "        Percs.append(perc)\n",
    "        \n",
    "        #Account for n traversalss random bursting cells\n",
    "        s_placeMap = gaussian_filter(placeMap, sigma = 1)\n",
    "        sn_placeMap = np.array(s_placeMap)/np.max(s_placeMap)\n",
    "        sn_placeMap[sn_placeMap < 0.2] = 0\n",
    "        pf_idxs = np.argwhere(sn_placeMap > 0)\n",
    "        S_pf = np.vstack((pf_idxs[:,0],pf_idxs[:,1]))\n",
    "        linSpf = np.ravel_multi_index(S_pf,(nBnx,nBny))\n",
    "        tr, rdm_burst = bursting_check(linSpf, linS, ev, tr_delay)\n",
    "        \n",
    "        # CONDITION 2: cell SI > Threshold are considered a Place cell\n",
    "        if perc >= perc_thresh:\n",
    "            criteria[i][1] = int(1)\n",
    "                      \n",
    "        #CONDITION 3: Number of traversals required   \n",
    "        if tr > n_tr: \n",
    "            criteria[i][2] = int(1)\n",
    "            \n",
    "        #CONDITION 4: number of traversals with cell firing  \n",
    "        if rdm_burst >= tr_thresh: \n",
    "            criteria[i][3] = int(1)\n",
    "        \n",
    "        #If all place cell criteria, then place cell identified\n",
    "        if sum(criteria[i]) == 4:\n",
    "            print(cell_IDS[i], 'Is a place cell with %d traversals' %tr)\n",
    "            pcs.append(1)\n",
    "        else:\n",
    "            pcs.append(0)         \n",
    "    else:\n",
    "        pcs.append(0)\n",
    "        SI.append(0)\n",
    "        Percs.append(0)\n",
    "\n",
    "print(sum(pcs), 'out of %d cells have been identified as place cells' %len(pcs))\n",
    "print((sum(pcs)/len(pcs))*100, ' Percent of cells are place cells')\n"
   ]
  },
  {
   "cell_type": "code",
   "execution_count": 70,
   "metadata": {},
   "outputs": [
    {
     "name": "stderr",
     "output_type": "stream",
     "text": [
      "<ipython-input-70-370943d2d8c8>:6: RuntimeWarning: invalid value encountered in true_divide\n",
      "  placeMap = np.divide(rateMap,occMap); placeMap[np.isnan(placeMap)] = 0\n"
     ]
    },
    {
     "data": {
      "image/png": "[encoded data removed]",
      "text/plain": [
       "<Figure size 432x144 with 3 Axes>"
      ]
     },
     "metadata": {
      "needs_background": "light"
     },
     "output_type": "display_data"
    },
    {
     "name": "stderr",
     "output_type": "stream",
     "text": [
      "<ipython-input-70-370943d2d8c8>:6: RuntimeWarning: invalid value encountered in true_divide\n",
      "  placeMap = np.divide(rateMap,occMap); placeMap[np.isnan(placeMap)] = 0\n"
     ]
    },
    {
     "data": {
      "image/png": "[encoded data removed]",
      "text/plain": [
       "<Figure size 432x144 with 3 Axes>"
      ]
     },
     "metadata": {
      "needs_background": "light"
     },
     "output_type": "display_data"
    },
    {
     "name": "stderr",
     "output_type": "stream",
     "text": [
      "<ipython-input-70-370943d2d8c8>:6: RuntimeWarning: invalid value encountered in true_divide\n",
      "  placeMap = np.divide(rateMap,occMap); placeMap[np.isnan(placeMap)] = 0\n",
      "<ipython-input-70-370943d2d8c8>:10: RuntimeWarning: invalid value encountered in true_divide\n",
      "  pc_plot = pc_plot/max_pc_plot\n"
     ]
    },
    {
     "data": {
      "image/png": "[encoded data removed]",
      "text/plain": [
       "<Figure size 432x144 with 3 Axes>"
      ]
     },
     "metadata": {
      "needs_background": "light"
     },
     "output_type": "display_data"
    },
    {
     "name": "stderr",
     "output_type": "stream",
     "text": [
      "<ipython-input-70-370943d2d8c8>:6: RuntimeWarning: invalid value encountered in true_divide\n",
      "  placeMap = np.divide(rateMap,occMap); placeMap[np.isnan(placeMap)] = 0\n"
     ]
    },
    {
     "data": {
      "image/png": "[encoded data removed]",
      "text/plain": [
       "<Figure size 432x144 with 3 Axes>"
      ]
     },
     "metadata": {
      "needs_background": "light"
     },
     "output_type": "display_data"
    },
    {
     "name": "stderr",
     "output_type": "stream",
     "text": [
      "<ipython-input-70-370943d2d8c8>:6: RuntimeWarning: invalid value encountered in true_divide\n",
      "  placeMap = np.divide(rateMap,occMap); placeMap[np.isnan(placeMap)] = 0\n"
     ]
    },
    {
     "data": {
      "image/png": "[encoded data removed]",
      "text/plain": [
       "<Figure size 432x144 with 3 Axes>"
      ]
     },
     "metadata": {
      "needs_background": "light"
     },
     "output_type": "display_data"
    },
    {
     "name": "stderr",
     "output_type": "stream",
     "text": [
      "<ipython-input-70-370943d2d8c8>:6: RuntimeWarning: invalid value encountered in true_divide\n",
      "  placeMap = np.divide(rateMap,occMap); placeMap[np.isnan(placeMap)] = 0\n"
     ]
    },
    {
     "data": {
      "image/png": "[encoded data removed]",
      "text/plain": [
       "<Figure size 432x144 with 3 Axes>"
      ]
     },
     "metadata": {
      "needs_background": "light"
     },
     "output_type": "display_data"
    }
   ],
   "source": [
    "placeMaps = []\n",
    "occ_nan = np.argwhere(occMap == 0)\n",
    "for i, ev in enumerate(e_traces):\n",
    "    #Calculate rate and place map\n",
    "    rateMap = sps.csr_matrix((ev,(bx,by)),shape=(nBnx,nBny),dtype=float).todense()\n",
    "    placeMap = np.divide(rateMap,occMap); placeMap[np.isnan(placeMap)] = 0\n",
    "    placeMaps.append(placeMap)\n",
    "    pc_plot = gaussian_filter(np.array(placeMap), sigma = 1)\n",
    "    max_pc_plot = np.max(pc_plot)\n",
    "    pc_plot = pc_plot/max_pc_plot\n",
    "    pc_plot[np.ix_(occ_nan[:,0]),occ_nan[:,1]] = np.nan\n",
    "    \n",
    "    e_idxs = [e_i for e_i, e in enumerate(ev) if e > 0]\n",
    "    x_e = x[e_idxs]; y_e = y[e_idxs]\n",
    "\n",
    "    if pcs[i]==1: # plot place cells\n",
    "        #Plot smoother & normalized place field\n",
    "        fig = plt.figure(figsize=(6,2))\n",
    "        gs = gridspec.GridSpec(1, 2, width_ratios=[3, 2.2]) \n",
    "        ax0 = plt.subplot(gs[0])\n",
    "        plt.imshow(pc_plot.T,aspect=\"auto\")\n",
    "        plt.colorbar()\n",
    "        plt.gca().invert_xaxis()\n",
    "        plt.gca().invert_yaxis()\n",
    "        sns.despine()\n",
    "        plt.axis('off')\n",
    "        plt.title('Place cell '+str(i)+'\\n (max = %3f)'%max_pc_plot)\n",
    "        \n",
    "        #Plot event overlays\n",
    "        ax1 = plt.subplot(gs[1])\n",
    "        plt.plot(x, y, c = 'k', linewidth = 1, zorder = 0)\n",
    "        plt.scatter(x_e, y_e, s = 4, c = 'r', zorder = 1)\n",
    "        plt.gca().invert_yaxis()\n",
    "        plt.axis('off')\n",
    "        plt.title('Cell '+str(i)+'event locations')\n",
    "        plt.savefig(save_to + 'Place cell '+str(i)+'.jpeg', dpi=300)\n",
    "        plt.show()\n",
    "    else:\n",
    "        #Plot smoother & normalized place field\n",
    "        fig = plt.figure(figsize=(6,2))\n",
    "        gs = gridspec.GridSpec(1, 2, width_ratios=[3, 2.2]) \n",
    "        ax0 = plt.subplot(gs[0])\n",
    "        plt.imshow(pc_plot.T,aspect=\"auto\")\n",
    "        plt.colorbar()\n",
    "        plt.gca().invert_xaxis()\n",
    "        plt.gca().invert_yaxis()\n",
    "        sns.despine()\n",
    "        plt.axis('off')\n",
    "        plt.title('Non-Place cell '+str(i)+'\\n (max = %3f)'%max_pc_plot)\n",
    "        \n",
    "        #Plot event overlays\n",
    "        ax1 = plt.subplot(gs[1])\n",
    "        plt.plot(x, y, c = 'k', linewidth = 1, zorder = 0)\n",
    "        plt.scatter(x_e, y_e, s = 4, c = 'r', zorder = 1)\n",
    "        plt.gca().invert_yaxis()\n",
    "        plt.axis('off')\n",
    "        plt.title('Cell '+str(i)+' \\n event locations')\n",
    "        plt.savefig(save_to + 'non-place cell '+str(i)+'.jpeg', dpi=300)\n",
    "        plt.show()\n",
    "        \n",
    "\n",
    "new_meta = pd.DataFrame({'Cell IDS':cell_IDS,'Place cells':pcs,\n",
    "                         'Criteria':list(criteria),'SI':SI,\n",
    "                         'Percentile':Percs,})\n",
    "\n",
    "new_meta.to_csv(save_to + str(animal)+'_'+str(session)+'_'+str(stage)+'_place_cells.csv', index=False)"
   ]
  },
  {
   "cell_type": "code",
   "execution_count": null,
   "metadata": {},
   "outputs": [],
   "source": [
    "#idea\n",
    "for i in range\n",
    "    if ['direction']=0\n",
    "        df['MI_N']=df.apply(place_cell_function) #?\n",
    "        \n",
    "#or\n",
    "\n",
    "for i in range\n",
    "    for row in df['direction'=0]\n",
    "        df.loc[row, 'MI_N']=place_cell_function(row, df) #maybe something like that\n",
    "    for row in df['direction'=1]\n",
    "         df.loc[row, 'MI_W']=place_cell_function(row, df) #etc"
   ]
  }
 ],
 "metadata": {
  "kernelspec": {
   "display_name": "Python 3",
   "language": "python",
   "name": "python3"
  },
  "language_info": {
   "codemirror_mode": {
    "name": "ipython",
    "version": 3
   },
   "file_extension": ".py",
   "mimetype": "text/x-python",
   "name": "python",
   "nbconvert_exporter": "python",
   "pygments_lexer": "ipython3",
   "version": "3.8.5"
  }
 },
 "nbformat": 4,
 "nbformat_minor": 4
}
