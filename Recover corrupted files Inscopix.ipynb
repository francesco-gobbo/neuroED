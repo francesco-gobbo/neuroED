{
 "cells": [
  {
   "cell_type": "markdown",
   "id": "1fc7252b",
   "metadata": {},
   "source": [
    "If you already have IDPS installed and followed the Python API instructions:\n",
    "\n",
    "1. Download the recovernv3.py script & place it in your Data Processing folder (often here: C:\\Program Files\\Inscopix\\Data Processing).\n",
    "\n",
    "2. Backup the file you want to recover.\n",
    "\n",
    "3. Open an Anaconda terminal window.\n",
    "\n",
    "4. Type in and run:\n",
    "\n",
    "    conda activate isxenv\n",
    "\n",
    "5. Run the script like this:\n",
    "\n",
    "    python recovernv3.py path_to_input_file.isxd path_to_output_file.isxd\n",
    "\n",
    "Note: There are optional arguments you can pass to the script:\n",
    "\n",
    "    To set the frame period in milliseconds:\n",
    "        python recovernv3.py input_file.isxd output_file.isxd --period_msecs 100\n",
    "\n",
    "    To force recovery even if the file has a header already (such as if the header is corrupted):\n",
    "        python recovernv3.py input_file.isxd output_file.isxd --force\n",
    "\n",
    "    To set the start time in epoch time (by default the script uses the filename to determine start time):\n",
    "        python recovernv3.py input_file.isxd output_file.isxd --timestamp_secs 1580120183\n",
    "\n",
    "You can get help by calling:\n",
    "\n",
    "    python recovernv3.py -h\n"
   ]
  },
  {
   "cell_type": "code",
   "execution_count": 3,
   "id": "2476e5a0",
   "metadata": {},
   "outputs": [],
   "source": [
    "\"\"\"\n",
    "This module contains an example that demonstrates how to recover nvista 3\n",
    "and nvoke 2 movies that cannot be read because they are missing their JSON\n",
    "footer of metadata.\n",
    "\"\"\"\n",
    "\n",
    "import os\n",
    "import argparse\n",
    "import datetime\n",
    "import textwrap\n",
    "import re\n",
    "\n",
    "import tqdm\n",
    "import numpy as np\n",
    "import isx\n",
    "\n",
    "\n",
    "def get_timing_and_spacing(input_file, period, start_timestamp):\n",
    "    # 20yy-mm-dd-hh-mm-ss\n",
    "    date_pattern = re.compile('20\\d{2}(-\\d{2}){5}')\n",
    "\n",
    "    num_pixels = (800, 1280)\n",
    "    spacing = isx.core.Spacing(num_pixels=num_pixels)\n",
    "    pixel_size = isx._internal.IsxRatio(3, 1)\n",
    "    spacing._impl.pixel_width = pixel_size\n",
    "    spacing._impl.pixel_height = pixel_size\n",
    "\n",
    "    total_num_pixels = np.prod(num_pixels)\n",
    "    frame_size_bytes = 2 * total_num_pixels\n",
    "    header_size_bytes = 2 * 2 * num_pixels[1]\n",
    "    footer_size_bytes = header_size_bytes\n",
    "    frame_size_bytes_with_hf = (frame_size_bytes + header_size_bytes + footer_size_bytes)\n",
    "    num_frames = os.stat(input_file).st_size // frame_size_bytes_with_hf\n",
    "    input_file_base = os.path.basename(input_file)\n",
    "\n",
    "    if not start_timestamp:\n",
    "        parsed_date = date_pattern.search(input_file_base)[0]\n",
    "        start_dt = datetime.datetime.strptime(parsed_date + '-+0000', '%Y-%m-%d-%H-%M-%S-%z')\n",
    "        start_timestamp = start_dt.timestamp()\n",
    "\n",
    "    start_time = isx.core.Time._from_secs_since_epoch(isx.core.Duration.from_secs(start_timestamp))\n",
    "    print(\"Start time is : \", start_time)\n",
    "    timing = isx.core.Timing(num_samples=num_frames, period=period, start=start_time)\n",
    "\n",
    "    return timing, spacing, frame_size_bytes, header_size_bytes, footer_size_bytes\n",
    "\n",
    "\n",
    "def recover_nv3_movie(input_file, output_file, period, force, start_timestamp):\n",
    "    \"\"\" Recovers frames from a corrupt nVista 3 movie file.\n",
    "    \"\"\"\n",
    "\n",
    "    read_failed = False\n",
    "    try:\n",
    "        isx.Movie.read(input_file)\n",
    "    except Exception as e:\n",
    "        read_failed = True\n",
    "\n",
    "    if not read_failed and not force:\n",
    "        raise Exception(\"Movie file has valid footer. Use --force to run recovery script anyway.\")\n",
    "\n",
    "    timing, spacing, frame_size_bytes, header_size_bytes, footer_size_bytes = get_timing_and_spacing(input_file, period, start_timestamp)\n",
    "    output_movie = isx.io.Movie.write(output_file, timing, spacing, np.uint16)\n",
    "    with tqdm.tqdm(total=timing.num_samples) as pbar:\n",
    "        with open(input_file,  'rb') as f:\n",
    "            for i in range(timing.num_samples):\n",
    "                f.seek(header_size_bytes, 1)\n",
    "                frame_bytes = f.read(frame_size_bytes)\n",
    "                frame = np.frombuffer(frame_bytes, dtype=np.uint16).reshape(spacing.num_pixels)\n",
    "                output_movie.set_frame_data(i, frame)\n",
    "                f.seek(footer_size_bytes, 1)\n",
    "                pbar.update(1)\n",
    "    output_movie.flush()\n",
    "\n",
    "\n"
   ]
  },
  {
   "cell_type": "code",
   "execution_count": null,
   "id": "2ff38379",
   "metadata": {},
   "outputs": [],
   "source": [
    "def main():\n",
    "    \"\"\" Reads a corrupt nVista 3 movie file and writes a new recovered file.\n",
    "    \"\"\"\n",
    "    parser = argparse.ArgumentParser(\n",
    "            description=textwrap.dedent(\"\"\"\n",
    "            Recovers an nVista 3 or nVoke 2 movie without metadata by writing a new file\n",
    "            with the same frame data but new metadata.\n",
    "\n",
    "            Description\n",
    "            -----------\n",
    "\n",
    "            The start date and time is inferred from the file name to the nearest second,\n",
    "            or can be passed as an argument.\n",
    "\n",
    "            The number of frames in the movie is inferred from the file size assuming that\n",
    "            each frame has 1280x800 pixels of type uint16.\n",
    "\n",
    "            The frame period can be provided in using the --period_msecs argument and is\n",
    "            50 milliseconds (corresponding to 20 Hz) by default.abs\n",
    "\n",
    "            All other metadata will take on default values, which in many cases, will be empty.\n",
    "\n",
    "            Example\n",
    "            -------\n",
    "\n",
    "            For example, to recover a file with a desired frame period of 100 milliseconds,\n",
    "            run the following from the command line.\n",
    "\n",
    "            python recovernv3.py --period_msecs 100 2018-07-19-13-36-04_video.isxd 2018-07-19-13-36-04_video-recovered.isxd\n",
    "\n",
    "            Arguments\n",
    "            ---------\n",
    "            \"\"\"),\n",
    "            formatter_class=argparse.RawDescriptionHelpFormatter\n",
    "    )\n",
    "    parser.add_argument(\n",
    "            'input_file', type=str,\n",
    "            help='The path of the input .isxd file. E.g. data_dir/2018-07-19-13-36-04_video.isxd')\n",
    "    parser.add_argument(\n",
    "            'output_file', type=str,\n",
    "            help='The path of the output .isxd file. E.g. data_dir/2018-07-19-13-36-04_video-recovered.isxd')\n",
    "    parser.add_argument(\n",
    "            '-p', '--period_msecs', required=False, default=50, type=int,\n",
    "            help='The frame period in milliseconds.')\n",
    "    parser.add_argument(\n",
    "            '-f', '--force', action='store_true',\n",
    "            help='Set flag to force recovery script even if file has valid footer.')\n",
    "    parser.add_argument(\n",
    "\t    '-t', '--timestamp_secs', required=False, type=int,\n",
    "\t     help='The timestamp of the start of the movie in seconds. E.g. 1580120183 - If argument not passed, start time is inferred from filename. ')\n",
    "\n",
    "    args = parser.parse_args()\n",
    "\n",
    "    recover_nv3_movie(args.input_file, args.output_file, period=isx.core.Duration.from_msecs(args.period_msecs), force=args.force, start_timestamp=args.timestamp_secs)\n",
    "\n",
    "\n",
    "if __name__ == '__main__':\n",
    "    main()\n"
   ]
  },
  {
   "cell_type": "code",
   "execution_count": 30,
   "id": "da15be83",
   "metadata": {},
   "outputs": [],
   "source": [
    "folder=r'H:\\ego allo nov2020\\H2222_SA28_EEW_SW5_CHO'\n",
    "input_file=os.path.join(folder, '2020-11-25-13-10-02_video.isxd')\n",
    "output_file=os.path.join(r'\\\\172.16.251.125\\Inscopix\\Francesco\\recovered files', '2020-11-25-13-10-02_video_recovered.isxd')"
   ]
  },
  {
   "cell_type": "code",
   "execution_count": 31,
   "id": "f3541f6c",
   "metadata": {},
   "outputs": [
    {
     "name": "stdout",
     "output_type": "stream",
     "text": [
      "Start time is :  2020-11-25 13:13:20\n"
     ]
    }
   ],
   "source": [
    "period = isx.Duration.from_msecs(50)\n",
    "get_timing_and_spacing(input_file,period,1606310000)\n",
    "start_timestamp=1606310000"
   ]
  },
  {
   "cell_type": "code",
   "execution_count": 34,
   "id": "e3bed5f0",
   "metadata": {},
   "outputs": [
    {
     "name": "stderr",
     "output_type": "stream",
     "text": [
      "\r",
      "  0%|          | 0/160 [00:00<?, ?it/s]"
     ]
    },
    {
     "name": "stdout",
     "output_type": "stream",
     "text": [
      "Start time is :  2020-11-25 13:13:20\n"
     ]
    },
    {
     "name": "stderr",
     "output_type": "stream",
     "text": [
      "100%|██████████| 160/160 [00:56<00:00,  2.84it/s]\n"
     ]
    }
   ],
   "source": [
    "force=None\n",
    "recover_nv3_movie(input_file, output_file, period, force, start_timestamp)\n"
   ]
  },
  {
   "cell_type": "code",
   "execution_count": null,
   "id": "329df9d2",
   "metadata": {},
   "outputs": [],
   "source": []
  }
 ],
 "metadata": {
  "kernelspec": {
   "display_name": "Python 3",
   "language": "python",
   "name": "python3"
  },
  "language_info": {
   "codemirror_mode": {
    "name": "ipython",
    "version": 3
   },
   "file_extension": ".py",
   "mimetype": "text/x-python",
   "name": "python",
   "nbconvert_exporter": "python",
   "pygments_lexer": "ipython3",
   "version": "3.6.13"
  }
 },
 "nbformat": 4,
 "nbformat_minor": 5
}
